{
 "cells": [
  {
   "cell_type": "code",
   "execution_count": 15,
   "id": "initial_id",
   "metadata": {
    "collapsed": true,
    "ExecuteTime": {
     "end_time": "2024-10-14T09:23:46.817044400Z",
     "start_time": "2024-10-14T09:23:46.756455800Z"
    }
   },
   "outputs": [],
   "source": [
    "from datetime import datetime\n",
    "import random\n",
    "from dataclasses import dataclass\n",
    "import operator\n",
    "from typing import List\n",
    "\n",
    "@dataclass\n",
    "class Flight:\n",
    "    time: datetime\n",
    "    latitude: float\n",
    "    longitude: float\n",
    "    altitude: int\n",
    "    speed: int\n",
    "    \n",
    "    def __init__(self):\n",
    "        self.time = datetime.now()\n",
    "        self.latitude = random.uniform(55, 56)\n",
    "        self.longitude = random.uniform(37, 38)\n",
    "        self.altitude = random.randint(300, 400)\n",
    "        self.speed = random.randint(50, 60)\n",
    "        \n",
    "    def __repr__(self):\n",
    "        kws = [f\"{key.title()}: {value!r}\" for key, value in self.__dict__.items()]\n",
    "        return \", \".join(kws)"
   ]
  },
  {
   "cell_type": "code",
   "outputs": [
    {
     "name": "stdout",
     "output_type": "stream",
     "text": [
      "[Time: datetime.datetime(2024, 10, 14, 12, 23, 47, 221570), Latitude: 55.82674658858107, Longitude: 37.04236107150421, Altitude: 353, Speed: 54, Time: datetime.datetime(2024, 10, 14, 12, 23, 47, 221570), Latitude: 55.70373488031408, Longitude: 37.57678370009598, Altitude: 325, Speed: 59, Time: datetime.datetime(2024, 10, 14, 12, 23, 47, 221570), Latitude: 55.3092238177702, Longitude: 37.088899325125766, Altitude: 376, Speed: 56, Time: datetime.datetime(2024, 10, 14, 12, 23, 47, 221570), Latitude: 55.484634846670296, Longitude: 37.185521182038826, Altitude: 379, Speed: 50, Time: datetime.datetime(2024, 10, 14, 12, 23, 47, 221570), Latitude: 55.20504537927643, Longitude: 37.774356830393984, Altitude: 302, Speed: 52]\n"
     ]
    }
   ],
   "source": [
    "flights = [\n",
    "    Flight() for _ in range(5)\n",
    "]\n",
    "print(flights)"
   ],
   "metadata": {
    "collapsed": false,
    "ExecuteTime": {
     "end_time": "2024-10-14T09:23:47.226238700Z",
     "start_time": "2024-10-14T09:23:47.221570300Z"
    }
   },
   "id": "904b4dfaa644c46e",
   "execution_count": 16
  },
  {
   "cell_type": "code",
   "outputs": [],
   "source": [
    "def sort_by_attr(flights: List[Flight], attr:str):\n",
    "    return sorted(flights, key=operator.attrgetter(f'{attr}'))\n",
    "\n",
    "def get_grater_than_val(flights: List[Flight], field: str, val: float|int):\n",
    "    return [flight for flight in flights if getattr(flight, field) > val]"
   ],
   "metadata": {
    "collapsed": false,
    "ExecuteTime": {
     "end_time": "2024-10-14T09:23:47.618722100Z",
     "start_time": "2024-10-14T09:23:47.614059600Z"
    }
   },
   "id": "4a2f11f4b6cffb09",
   "execution_count": 17
  },
  {
   "cell_type": "code",
   "outputs": [
    {
     "data": {
      "text/plain": "[Time: datetime.datetime(2024, 10, 14, 12, 23, 47, 221570), Latitude: 55.3092238177702, Longitude: 37.088899325125766, Altitude: 376, Speed: 56,\n Time: datetime.datetime(2024, 10, 14, 12, 23, 47, 221570), Latitude: 55.484634846670296, Longitude: 37.185521182038826, Altitude: 379, Speed: 50,\n Time: datetime.datetime(2024, 10, 14, 12, 23, 47, 221570), Latitude: 55.70373488031408, Longitude: 37.57678370009598, Altitude: 325, Speed: 59,\n Time: datetime.datetime(2024, 10, 14, 12, 23, 47, 221570), Latitude: 55.82674658858107, Longitude: 37.04236107150421, Altitude: 353, Speed: 54]"
     },
     "execution_count": 18,
     "metadata": {},
     "output_type": "execute_result"
    }
   ],
   "source": [
    "sorted_flights_by_data = sort_by_attr(flights, 'time')\n",
    "sorted_flights_by_latitude = sort_by_attr(flights, 'latitude')\n",
    "flights_grater_than_320 = get_grater_than_val(sorted_flights_by_latitude, 'altitude', 320)\n",
    "flights_grater_than_320"
   ],
   "metadata": {
    "collapsed": false,
    "ExecuteTime": {
     "end_time": "2024-10-14T09:23:48.092512600Z",
     "start_time": "2024-10-14T09:23:48.087184300Z"
    }
   },
   "id": "42bb8dea1e0fac86",
   "execution_count": 18
  },
  {
   "cell_type": "code",
   "outputs": [],
   "source": [
    "@dataclass\n",
    "class Command:\n",
    "    priority: int\n",
    "    timestamp: datetime\n",
    "    \n",
    "    def __init__(self):\n",
    "        self.timestamp = datetime.now()\n",
    "        self.priority = random.randint(1, 3)"
   ],
   "metadata": {
    "collapsed": false,
    "ExecuteTime": {
     "end_time": "2024-10-14T09:23:48.841475Z",
     "start_time": "2024-10-14T09:23:48.832397700Z"
    }
   },
   "id": "27a569634f927707",
   "execution_count": 19
  },
  {
   "cell_type": "code",
   "outputs": [
    {
     "name": "stdout",
     "output_type": "stream",
     "text": [
      "[Command(priority=2, timestamp=datetime.datetime(2024, 10, 14, 12, 24, 24, 327478)), Command(priority=3, timestamp=datetime.datetime(2024, 10, 14, 12, 24, 24, 327478)), Command(priority=1, timestamp=datetime.datetime(2024, 10, 14, 12, 24, 24, 327478)), Command(priority=1, timestamp=datetime.datetime(2024, 10, 14, 12, 24, 24, 327478)), Command(priority=1, timestamp=datetime.datetime(2024, 10, 14, 12, 24, 24, 327478))]\n"
     ]
    }
   ],
   "source": [
    "commands = [\n",
    "    Command() for _ in range(5)\n",
    "]\n",
    "print(commands)"
   ],
   "metadata": {
    "collapsed": false,
    "ExecuteTime": {
     "end_time": "2024-10-14T09:24:24.351000900Z",
     "start_time": "2024-10-14T09:24:24.329098700Z"
    }
   },
   "id": "f80b2f2b8f3c7ca1",
   "execution_count": 24
  },
  {
   "cell_type": "code",
   "outputs": [
    {
     "data": {
      "text/plain": "[Command(priority=1, timestamp=datetime.datetime(2024, 10, 14, 12, 24, 24, 327478)),\n Command(priority=1, timestamp=datetime.datetime(2024, 10, 14, 12, 24, 24, 327478)),\n Command(priority=1, timestamp=datetime.datetime(2024, 10, 14, 12, 24, 24, 327478)),\n Command(priority=2, timestamp=datetime.datetime(2024, 10, 14, 12, 24, 24, 327478)),\n Command(priority=3, timestamp=datetime.datetime(2024, 10, 14, 12, 24, 24, 327478))]"
     },
     "execution_count": 25,
     "metadata": {},
     "output_type": "execute_result"
    }
   ],
   "source": [
    "sorted(commands, key=operator.attrgetter('priority', 'timestamp'))"
   ],
   "metadata": {
    "collapsed": false,
    "ExecuteTime": {
     "end_time": "2024-10-14T09:24:26.756988Z",
     "start_time": "2024-10-14T09:24:26.729601700Z"
    }
   },
   "id": "19a46eb202eb8722",
   "execution_count": 25
  },
  {
   "cell_type": "code",
   "outputs": [
    {
     "name": "stdout",
     "output_type": "stream",
     "text": [
      "0 index contains \"start\"\n",
      "1 index contains \"stop\"\n",
      "2 index contains \"takeoff\"\n",
      "3 index contains \"land\"\n",
      "4 index contains \"move\"\n",
      "5 index contains \"return\"\n",
      "Not found \"foo\"\n"
     ]
    }
   ],
   "source": [
    "true_commands = ['start', 'stop', 'takeoff', 'land', 'move', 'return']\n",
    "all_commands = true_commands.copy()\n",
    "all_commands.append('foo')\n",
    "for target in all_commands:\n",
    "    try:\n",
    "        print(f'{true_commands.index(target)} index contains \"{target}\"')\n",
    "    except ValueError:\n",
    "        print(f'Not found \"{target}\"')"
   ],
   "metadata": {
    "collapsed": false,
    "ExecuteTime": {
     "end_time": "2024-10-14T09:30:27.981290100Z",
     "start_time": "2024-10-14T09:30:27.945963100Z"
    }
   },
   "id": "602e001070c3f4fb",
   "execution_count": 30
  },
  {
   "cell_type": "code",
   "outputs": [],
   "source": [
    "from functools import wraps\n",
    "import time\n",
    "\n",
    "\n",
    "def timeit(func):\n",
    "    @wraps(func)\n",
    "    def timeit_wrapper(*args, **kwargs):\n",
    "        start_time = time.perf_counter()\n",
    "        result = func(*args, **kwargs)\n",
    "        end_time = time.perf_counter()\n",
    "        total_time = end_time - start_time\n",
    "        print(f'Time of the search execution by {func.__name__} Took {total_time:.4f} seconds')\n",
    "        return result\n",
    "    return timeit_wrapper"
   ],
   "metadata": {
    "collapsed": false,
    "ExecuteTime": {
     "end_time": "2024-10-14T09:40:19.934651200Z",
     "start_time": "2024-10-14T09:40:19.918485500Z"
    }
   },
   "id": "5e89e0dff1b20824",
   "execution_count": 46
  },
  {
   "cell_type": "code",
   "outputs": [],
   "source": [
    "@timeit\n",
    "def binary_search(arr, x):\n",
    "    high = arr[0]\n",
    "    low = arr[-1]\n",
    "    # Check base case\n",
    "    if high >= low:\n",
    " \n",
    "        mid = (high + low) // 2\n",
    " \n",
    "        # If element is present at the middle itself\n",
    "        if arr[mid] == x:\n",
    "            return mid\n",
    " \n",
    "        # If element is smaller than mid, then it can only\n",
    "        # be present in left subarray\n",
    "        elif arr[mid] > x:\n",
    "            return binary_search(arr, low, mid - 1, x)\n",
    " \n",
    "        # Else the element can only be present in right subarray\n",
    "        else:\n",
    "            return binary_search(arr, mid + 1, high, x)\n",
    " \n",
    "    else:\n",
    "        # Element is not present in the array\n",
    "        return -1"
   ],
   "metadata": {
    "collapsed": false,
    "ExecuteTime": {
     "end_time": "2024-10-14T09:40:20.185182100Z",
     "start_time": "2024-10-14T09:40:20.177233200Z"
    }
   },
   "id": "24b9323ddddab40",
   "execution_count": 47
  },
  {
   "cell_type": "code",
   "outputs": [
    {
     "name": "stdout",
     "output_type": "stream",
     "text": [
      "Time of the search execution by binary_search Took 0.0000 seconds\n",
      "speed 7.51 m\\s was not found\n"
     ]
    }
   ],
   "source": [
    "speeds = [random.uniform(0, 100) for i in range(10000)]\n",
    "sorted_speed = sorted(speeds)\n",
    "target_speed = random.uniform (0,100)\n",
    "index = binary_search(sorted_speed, target_speed)\n",
    "if index != -1:\n",
    "    print(f'speed {target_speed:.2f} m\\s found with index {index}')\n",
    "else:\n",
    "    print(f'speed {target_speed:.2f} m\\s was not found')"
   ],
   "metadata": {
    "collapsed": false,
    "ExecuteTime": {
     "end_time": "2024-10-14T09:40:20.882497700Z",
     "start_time": "2024-10-14T09:40:20.848965300Z"
    }
   },
   "id": "438294c74f84cf47",
   "execution_count": 48
  }
 ],
 "metadata": {
  "kernelspec": {
   "display_name": "Python 3",
   "language": "python",
   "name": "python3"
  },
  "language_info": {
   "codemirror_mode": {
    "name": "ipython",
    "version": 2
   },
   "file_extension": ".py",
   "mimetype": "text/x-python",
   "name": "python",
   "nbconvert_exporter": "python",
   "pygments_lexer": "ipython2",
   "version": "2.7.6"
  }
 },
 "nbformat": 4,
 "nbformat_minor": 5
}
